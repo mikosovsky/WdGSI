{
 "cells": [
  {
   "cell_type": "markdown",
   "id": "8642cde9da1a3b6f",
   "metadata": {},
   "source": [
    "## Pięć zasad efektywnej inżynierii promptów\n",
    "1. Jasne instrukcje poprawiają trafność.\n",
    "2. Przykłady stabilizują odpowiedź.\n",
    "3. Zdefiniowany format odpowiedzi = przewidywalny wynik.\n",
    "4. Dzielenie na kroki = lepsze i pełniejsze rozwiązania.\n",
    "5. Testy i weryfikacja = bezpieczeństwo i poprawność."
   ]
  },
  {
   "cell_type": "code",
   "execution_count": 1,
   "id": "initial_id",
   "metadata": {
    "ExecuteTime": {
     "end_time": "2025-08-27T06:41:07.236291Z",
     "start_time": "2025-08-27T06:41:07.039018Z"
    },
    "collapsed": true
   },
   "outputs": [],
   "source": [
    "# Import bibliotek\n",
    "import os\n",
    "from dotenv import load_dotenv\n",
    "load_dotenv()\n",
    "\n",
    "from langchain_openai import ChatOpenAI\n",
    "\n",
    "# odel bazowy\n",
    "llm = ChatOpenAI(model=\"gpt-4o\", temperature=0.7)"
   ]
  },
  {
   "cell_type": "markdown",
   "id": "5aea7763b726d804",
   "metadata": {},
   "source": [
    "### Zasada 1 — Jasne instrukcje"
   ]
  },
  {
   "cell_type": "code",
   "execution_count": 2,
   "id": "dbab59416e864073",
   "metadata": {
    "ExecuteTime": {
     "end_time": "2025-08-27T06:41:19.216078Z",
     "start_time": "2025-08-27T06:41:09.107797Z"
    }
   },
   "outputs": [
    {
     "name": "stdout",
     "output_type": "stream",
     "text": [
      "=== Zły prompt ===\n",
      "Oczywiście! Jaką funkcję chciałbyś, aby stworzyć? Możesz podać mi więcej szczegółów na temat jej celu, a ja pomogę Ci ją napisać.\n",
      "\n",
      "=== Dobry prompt ===\n",
      "Oczywiście! Poniżej znajduje się funkcja w Pythonie, która przyjmuje listę liczb całkowitych i zwraca nową listę zawierającą tylko liczby parzyste. Dodałem również test jednostkowy z użyciem biblioteki `pytest`.\n",
      "\n",
      "### Funkcja do filtrowania liczb parzystych\n",
      "\n",
      "```python\n",
      "def filter_even_numbers(numbers):\n",
      "    \"\"\"Funkcja zwraca listę tylko z liczbami parzystymi.\"\"\"\n",
      "    return [num for num in numbers if num % 2 == 0]\n",
      "```\n",
      "\n",
      "### Test jednostkowy z użyciem pytest\n",
      "\n",
      "Aby przetestować tę funkcję, możesz użyć następującego kodu testowego:\n",
      "\n",
      "```python\n",
      "import pytest\n",
      "\n",
      "def test_filter_even_numbers():\n",
      "    assert filter_even_numbers([1, 2, 3, 4, 5, 6]) == [2, 4, 6]\n",
      "    assert filter_even_numbers([0, -2, -3, -4]) == [0, -2, -4]\n",
      "    assert filter_even_numbers([1, 3, 5]) == []\n",
      "    assert filter_even_numbers([]) == []\n",
      "    assert filter_even_numbers([10, 15, 20, 25, 30]) == [10, 20, 30]\n",
      "```\n",
      "\n",
      "### Jak uruchomić testy\n",
      "\n",
      "Aby uruchomić testy, upewnij się, że masz zainstalowany `pytest`. Możesz go zainstalować przy pomocy pip:\n",
      "\n",
      "```bash\n",
      "pip install pytest\n",
      "```\n",
      "\n",
      "Następnie zapisz kod funkcji i testów w pliku, na przykład `test_filter_even.py`, i uruchom testy w terminalu:\n",
      "\n",
      "```bash\n",
      "pytest test_filter_even.py\n",
      "```\n",
      "\n",
      "To wszystko! Funkcja powinna działać poprawnie i testy powinny przejść bez błędów.\n"
     ]
    }
   ],
   "source": [
    "# Zły prompt — niejasny, bez roli i oczekiwań\n",
    "bad_prompt = \"Napisz funkcję w Pythonie.\"\n",
    "print(\"=== Zły prompt ===\")\n",
    "print(llm.invoke(bad_prompt).content)\n",
    "\n",
    "# Dobry prompt — jasno określona rola i oczekiwania\n",
    "good_prompt = \"\"\"Jesteś ekspertem programującym w Pythonie.\n",
    "Napisz funkcję w Pythonie, która przyjmuje listę liczb całkowitych\n",
    "i zwraca nową listę zawierającą tylko liczby parzyste.\n",
    "Dodaj test jednostkowy w pytest.\"\"\"\n",
    "print(\"\\n=== Dobry prompt ===\")\n",
    "print(llm.invoke(good_prompt).content)"
   ]
  },
  {
   "cell_type": "markdown",
   "id": "9c9e1dabb42f8ded",
   "metadata": {},
   "source": [
    "### Zasada 2 — Używaj przykładów"
   ]
  },
  {
   "cell_type": "code",
   "execution_count": 3,
   "id": "5be1241181a9964b",
   "metadata": {
    "ExecuteTime": {
     "end_time": "2025-08-27T06:42:12.789695Z",
     "start_time": "2025-08-27T06:42:05.585695Z"
    }
   },
   "outputs": [
    {
     "name": "stdout",
     "output_type": "stream",
     "text": [
      "=== Zero-shot ===\n",
      "Oto kilka tagów, które mogą opisać firmę Lego na podstawie podanego tekstu:\n",
      "\n",
      "- Lego\n",
      "- zabawki\n",
      "- dzieci\n",
      "- produkcja zabawek\n",
      "- kreatywność\n",
      "- edukacja\n",
      "- rozrywka\n",
      "- konstrukcja\n",
      "- rozwój dziecka\n",
      "- marka dziecięca\n",
      "\n",
      "=== One-shot ===\n",
      "odzież, buty, sport\n",
      "\n",
      "=== Few-shot ===\n",
      "samochody, elektryczność, energia\n"
     ]
    }
   ],
   "source": [
    "# Zadanie: wygeneruj tagi na podstawie treści strony firmy\n",
    "\n",
    "# Zero-shot\n",
    "zero_shot = \"\"\"Podaj tagi opisujące firmę na podstawie tekstu strony:\n",
    "Firma Lego produkuje zabawki dla dzieci.\"\"\"\n",
    "print(\"=== Zero-shot ===\")\n",
    "print(llm.invoke(zero_shot).content)\n",
    "\n",
    "# One-shot\n",
    "one_shot = \"\"\"Podaj maksymalnie trzy tagi opisujące firmę na podstawie tekstu strony.\n",
    "Przykład:\n",
    "Tekst: Firma Lego produkuje klocki dla dzieci.\n",
    "Tagi: zabawki, klocki, dzieci\n",
    "\n",
    "Teraz:\n",
    "Tekst: Firma Nike produkuje odzież i buty sportowe.\n",
    "Tagi:\"\"\"\n",
    "print(\"\\n=== One-shot ===\")\n",
    "print(llm.invoke(one_shot).content)\n",
    "\n",
    "# Few-shot\n",
    "few_shot = \"\"\"Podaj maksymalnie trzy tagi opisujące firmę na podstawie tekstu strony.\n",
    "\n",
    "Przykład 1:\n",
    "Tekst: Firma Lego produkuje klocki dla dzieci.\n",
    "Tagi: zabawki, klocki, dzieci\n",
    "\n",
    "Przykład 2:\n",
    "Tekst: Firma Nike produkuje odzież i buty sportowe.\n",
    "Tagi: sport, odzież, obuwie\n",
    "\n",
    "Teraz:\n",
    "Tekst: Firma Tesla produkuje samochody elektryczne i magazyny energii.\n",
    "Tagi:\"\"\"\n",
    "print(\"\\n=== Few-shot ===\")\n",
    "print(llm.invoke(few_shot).content)\n"
   ]
  },
  {
   "cell_type": "markdown",
   "id": "c889316ae3b0d976",
   "metadata": {},
   "source": [
    "### Zasada 3 — Zdefiniuj format odpowiedzi\n",
    "walidacja wejścia i wyjścia z wykorzystaniem biblioteki Pydantic"
   ]
  },
  {
   "cell_type": "code",
   "execution_count": 4,
   "id": "669d955ea1cc6513",
   "metadata": {
    "ExecuteTime": {
     "end_time": "2025-09-15T06:32:35.002756Z",
     "start_time": "2025-09-15T06:32:27.159258Z"
    }
   },
   "outputs": [
    {
     "name": "stdout",
     "output_type": "stream",
     "text": [
      "city='Poznań' summary='Poznań to jedno z najstarszych miast w Polsce, znane z bogatej historii, pięknej architektury i tętniącej życiem atmosfery. To idealne miejsce na krótki wypad, oferujące zarówno zabytki, jak i nowoczesne atrakcje.' must_do=['Odwiedź Stary Rynek i zobacz ratusz z koziołkami', 'Spaceruj po Ostrówie Tumskim i zwiedź Katedrę Poznańską', 'Zrelaksuj się w Parku Cytadela', 'Spróbuj lokalnych specjałów w jednej z restauracji na Starym Mieście', 'Zobacz Muzeum Narodowe z bogatą kolekcją sztuki']\n",
      "{\n",
      "  \"city\": \"Poznań\",\n",
      "  \"summary\": \"Poznań to jedno z najstarszych miast w Polsce, znane z bogatej historii, pięknej architektury i tętniącej życiem atmosfery. To idealne miejsce na krótki wypad, oferujące zarówno zabytki, jak i nowoczesne atrakcje.\",\n",
      "  \"must_do\": [\n",
      "    \"Odwiedź Stary Rynek i zobacz ratusz z koziołkami\",\n",
      "    \"Spaceruj po Ostrówie Tumskim i zwiedź Katedrę Poznańską\",\n",
      "    \"Zrelaksuj się w Parku Cytadela\",\n",
      "    \"Spróbuj lokalnych specjałów w jednej z restauracji na Starym Mieście\",\n",
      "    \"Zobacz Muzeum Narodowe z bogatą kolekcją sztuki\"\n",
      "  ]\n",
      "}\n"
     ]
    }
   ],
   "source": [
    "from pydantic import BaseModel, Field\n",
    "from typing import List\n",
    "from langchain_openai import ChatOpenAI\n",
    "from langchain_core.prompts import ChatPromptTemplate\n",
    "import dotenv\n",
    "\n",
    "dotenv.load_dotenv()\n",
    "\n",
    "# Definicja schematu wyjścia (Pydantic)\n",
    "class CityGuide(BaseModel):\n",
    "    city: str = Field(..., description=\"Miasto, którego dotyczy przewodnik\")\n",
    "    summary: str = Field(..., description=\"Krótki opis miasta (2–3 zdania)\")\n",
    "    must_do: List[str] = Field(..., description=\"Lista 3–5 rzeczy do zrobienia\")\n",
    "\n",
    "# LLM + structured output\n",
    "llm = ChatOpenAI(model=\"gpt-4o-mini\", temperature=0)\n",
    "structured_llm = llm.with_structured_output(CityGuide)\n",
    "\n",
    "prompt = ChatPromptTemplate.from_messages([\n",
    "    (\"system\", \"Jesteś ekspertem od podróży. Odpowiadaj po polsku, zwięźle.\"),\n",
    "    (\"user\", \"Stwórz krótki przewodnik po {city} dla {days}-dniowej wizyty.\")\n",
    "])\n",
    "\n",
    "chain = prompt | structured_llm\n",
    "\n",
    "# Walidacja wejścia Pydantic + wywołanie łańcucha\n",
    "from pydantic import BaseModel, Field\n",
    "\n",
    "class GuideRequest(BaseModel):\n",
    "    city: str = Field(min_length=2)\n",
    "    days: int = Field(ge=1, le=7)\n",
    "\n",
    "req = GuideRequest(city=\"Poznań\", days=2)\n",
    "\n",
    "result: CityGuide = chain.invoke(req.model_dump())  # <- dostajesz OBIEKT Pydantic\n",
    "print(result)                         # CityGuide(city=..., summary=..., must_do=[...])\n",
    "print(result.model_dump_json(indent=2))  # JSON gotowy do zapisu/transportu"
   ]
  },
  {
   "cell_type": "markdown",
   "id": "8328fe6c016afbdd",
   "metadata": {},
   "source": [
    "### Zasada 4 — Dziel złożone zadania na kroki"
   ]
  },
  {
   "cell_type": "code",
   "execution_count": 11,
   "id": "c8d6293b8c85e05d",
   "metadata": {
    "ExecuteTime": {
     "end_time": "2025-08-27T07:10:49.340340Z",
     "start_time": "2025-08-27T07:09:56.850883Z"
    }
   },
   "outputs": [
    {
     "name": "stdout",
     "output_type": "stream",
     "text": [
      "=== Zły prompt ===\n",
      "Oto trzydniowy plan zwiedzania Poznania z budżetem 300 euro. Plan uwzględnia atrakcje turystyczne, restauracje, transport oraz przybliżone ceny.\n",
      "\n",
      "### Dzień 1: Stare Miasto i Okolice\n",
      "\n",
      "**Rano:**\n",
      "- **Śniadanie:** Kawiarnia \"Café La Ruina\" (ok. 5 euro)\n",
      "- **Atrakcja:** Zamek Cesarski (bilet wstępu: 5 euro)\n",
      "- **Transport:** Spacer do Starego Miasta\n",
      "\n",
      "**Południe:**\n",
      "- **Atrakcja:** Rynek i Ratusz (za darmo, obserwacja koziołków o 12:00)\n",
      "- **Lunch:** Restauracja \"Bistro Na Żywo\" (ok. 10-15 euro)\n",
      "\n",
      "**Popołudnie:**\n",
      "- **Atrakcja:** Katedra na Ostrowie Tumskim (za darmo, opcjonalnie bilet na wieżę: 3 euro)\n",
      "- ...\n",
      "\n",
      "=== Dobry prompt — krok 1 ===\n",
      "Oto niektóre z najważniejszych atrakcji kulturalnych w Poznaniu wraz z godzinami otwarcia. Proszę pamiętać, że godziny mogą się zmieniać, więc warto sprawdzić aktualne informacje przed wizytą.\n",
      "\n",
      "1. **Stary Rynek** - serce Poznania, gdzie znajduje się ratusz z koziołkami.\n",
      "   - Godziny otwarcia: Całodobowo (rynek jako przestrzeń publiczna).\n",
      "\n",
      "2. **Ratusz w Poznaniu** - siedziba Muzeum Historii Miasta Poznania.\n",
      "   - Godziny otwarcia: \n",
      "     - poniedziałek - piątek: 10:00 - 17:00\n",
      "     - sobota - niedziela: 11:00 - 18:00\n",
      "\n",
      "3. **Katedra Poznańska** (Archikatedra św. Piotra i Pawła) - jedna z najstarszyc ...\n",
      "\n",
      "=== Dobry prompt — krok 2 ===\n",
      "Oto propozycja planu zwiedzania Poznania na 3 dni, z maksymalnie 4 atrakcjami dziennie:\n",
      "\n",
      "### Dzień 1: Serce Poznania\n",
      "1. **Stary Rynek** – rozpocznij dzień od spaceru po Starym Rynku, podziwiając ratusz i koziołki. (Całodobowo)\n",
      "   \n",
      "2. **Ratusz w Poznaniu** – zwiedzanie Muzeum Historii Miasta Poznania. (Otwarte do 17:00 w dni powszednie, 18:00 w weekendy)\n",
      "   - **Zalecany czas wizyty**: 1-1.5 godziny.\n",
      "   \n",
      "3. **Katedra Poznańska** – odwiedź jedną z najstarszych katedr w Polsce. (Otwarte do 17:00 w dni powszednie, 16:00 w niedzielę)\n",
      "   - **Zalecany czas wizyty**: 1 godzina.\n",
      "\n",
      "4. **Spacer po Cytadeli ...\n"
     ]
    }
   ],
   "source": [
    "# Zły prompt — wszystko naraz\n",
    "bad_prompt = \"\"\"Przygotuj trzydniowy plan zwiedzania Poznania z budżetem 300 euro,\n",
    "uwzględniając atrakcje, restauracje, transport i mapy.\"\"\"\n",
    "print(\"=== Zły prompt ===\")\n",
    "print(llm.invoke(bad_prompt).content[:600], \"...\")\n",
    "\n",
    "# Dobry prompt — krok po kroku\n",
    "good_step1 = \"Wypisz najważniejsze atrakcje kulturalne w Poznaniu z godzinami otwarcia.\"\n",
    "step1 = llm.invoke(good_step1).content\n",
    "print(\"\\n=== Dobry prompt — krok 1 ===\")\n",
    "print(step1[:600], \"...\")\n",
    "\n",
    "good_step2 = f\"Na podstawie tej listy ułóż plan zwiedzania na 3 dni, maks 4 atrakcje dziennie. Atrakcje: {step1}\"\n",
    "step2 = llm.invoke(good_step2).content\n",
    "print(\"\\n=== Dobry prompt — krok 2 ===\")\n",
    "print(step2[:600], \"...\")\n"
   ]
  },
  {
   "cell_type": "code",
   "execution_count": 5,
   "id": "452397a9",
   "metadata": {},
   "outputs": [
    {
     "name": "stdout",
     "output_type": "stream",
     "text": [
      "\n",
      "=== Dobry prompt — krok 1 ===\n",
      "Oto plan artykułu na temat asteroidy 3I/Atlas jako obiektu obcych:\n",
      "\n",
      "1. **Wprowadzenie do asteroidy 3I/Atlas**\n",
      "   - Krótkie przedstawienie asteroidy 3I/Atlas: odkrycie, charakterystyka i trajektoria.\n",
      "   - Wyjaśnienie, dlaczego asteroida ta wzbudza zainteresowanie naukowców i entuzjastów astronomii.\n",
      "\n",
      "2. **Dowody na pochodzenie obce**\n",
      "   - Analiza cech fizycznych i chemicznych asteroidy, które mogą sugerować jej nieziemskie pochodzenie.\n",
      "   - Przegląd badań i obserwacji, które wskazują na możliwość, że 3I/Atlas mogła być stworzona przez obce cywilizacje.\n",
      "\n",
      "3. **Reakcje społeczności naukowej i publi ...\n",
      "\n",
      "=== Dobry prompt — krok 2 ===\n",
      "Asteroida 3I/Atlas, odkryta w 2019 roku, zyskała status jednego z najbardziej intrygujących obiektów w naszym Układzie Słonecznym. Jej nietypowa trajektoria oraz unikalne cechy fizyczne i chemiczne przyciągnęły uwagę zarówno naukowców, jak i entuzjastów astronomii. W miarę jak badania nad tym obiektem postępują, coraz więcej osób zaczyna zastanawiać się nad jego pochodzeniem, a niektórzy sugerują, że 3I/Atlas może być dowodem na istnienie obcych cywilizacji. W artykule tym przyjrzymy się bliżej tej fascynującej asteroidzie, analizując jej charakterystykę, dowody na potencjalne nieziemskie poch ...\n",
      "\n",
      "=== Dobry prompt — krok 3 ===\n",
      "Asteroida 3I/Atlas wyróżnia się nie tylko swoją trajektorią, ale także niezwykłym składem chemicznym, który budzi wiele pytań. Jej powierzchnia, pokryta nietypowymi minerałami, oraz obecność organicznych związków chemicznych mogą sugerować, że obiekt ten nie jest typowym przedstawicielem asteroid z naszego Układu Słonecznego. W miarę jak astronomowie prowadzą szczegółowe analizy, pojawiają się hipotezy dotyczące możliwości, że 3I/Atlas mogła być stworzona przez obce cywilizacje lub przynajmniej miała kontakt z nimi. W kontekście tych spekulacji, badania nad asteroida stają się nie tylko kwesti ...\n"
     ]
    }
   ],
   "source": [
    "# Dobry prompt — krok po kroku\n",
    "good_step1 = \"Wygeneruj plan z 4 punktami artykułu dla tematu asteroida 3I/Atlas jest obiektem obcych.\"\n",
    "step1 = llm.invoke(good_step1).content\n",
    "print(\"\\n=== Dobry prompt — krok 1 ===\")\n",
    "print(step1[:600], \"...\")\n",
    "\n",
    "good_step2 = f\"Na podstawie planu wygeneruj pierwszy paragraf: {step1}\"\n",
    "step2 = llm.invoke(good_step2).content\n",
    "print(\"\\n=== Dobry prompt — krok 2 ===\")\n",
    "print(step2[:600], \"...\")\n",
    "\n",
    "good_step3 = (f\"Na podstawie planu i pierwszego paragrafu, wygeneruj drugi paragraf: plan: {step1}\" f\"pierwszy paragraf: {step2}\")\n",
    "step3 = llm.invoke(good_step3).content\n",
    "print(\"\\n=== Dobry prompt — krok 3 ===\")\n",
    "print(step3[:600], \"...\")"
   ]
  },
  {
   "cell_type": "code",
   "execution_count": 8,
   "id": "37acd419",
   "metadata": {},
   "outputs": [
    {
     "name": "stdout",
     "output_type": "stream",
     "text": [
      "Asteroida 3I/Atlas, odkryta w 2019 roku, zyskała status jednego z najbardziej intrygujących obiektów w naszym Układzie Słonecznym. Jej nietypowa trajektoria oraz unikalne cechy fizyczne i chemiczne przyciągnęły uwagę zarówno naukowców, jak i entuzjastów astronomii. W miarę jak badania nad tym obiektem postępują, coraz więcej osób zaczyna zastanawiać się nad jego pochodzeniem, a niektórzy sugerują, że 3I/Atlas może być dowodem na istnienie obcych cywilizacji. W artykule tym przyjrzymy się bliżej tej fascynującej asteroidzie, analizując jej charakterystykę, dowody na potencjalne nieziemskie pochodzenie oraz reakcje społeczności naukowej i publicznej na teorie dotyczące obcych.\n"
     ]
    }
   ],
   "source": [
    "print(step2)"
   ]
  },
  {
   "cell_type": "markdown",
   "id": "f16c02fd7f8f68e3",
   "metadata": {},
   "source": [
    "### Zasada 5 — Testuj i weryfikuj wyniki"
   ]
  },
  {
   "cell_type": "code",
   "execution_count": 13,
   "id": "931f12d8",
   "metadata": {},
   "outputs": [
    {
     "name": "stdout",
     "output_type": "stream",
     "text": [
      "Requirement already satisfied: langchain in ./.venv/lib/python3.12/site-packages (0.3.27)\n",
      "Requirement already satisfied: numpy in ./.venv/lib/python3.12/site-packages (2.3.3)\n",
      "Collecting langchain-community\n",
      "  Downloading langchain_community-0.3.30-py3-none-any.whl.metadata (3.0 kB)\n",
      "Requirement already satisfied: langchain-core<1.0.0,>=0.3.72 in ./.venv/lib/python3.12/site-packages (from langchain) (0.3.76)\n",
      "Requirement already satisfied: langchain-text-splitters<1.0.0,>=0.3.9 in ./.venv/lib/python3.12/site-packages (from langchain) (0.3.11)\n",
      "Requirement already satisfied: langsmith>=0.1.17 in ./.venv/lib/python3.12/site-packages (from langchain) (0.4.31)\n",
      "Requirement already satisfied: pydantic<3.0.0,>=2.7.4 in ./.venv/lib/python3.12/site-packages (from langchain) (2.11.9)\n",
      "Requirement already satisfied: SQLAlchemy<3,>=1.4 in ./.venv/lib/python3.12/site-packages (from langchain) (2.0.43)\n",
      "Requirement already satisfied: requests<3,>=2 in ./.venv/lib/python3.12/site-packages (from langchain) (2.32.5)\n",
      "Requirement already satisfied: PyYAML>=5.3 in ./.venv/lib/python3.12/site-packages (from langchain) (6.0.3)\n",
      "Collecting aiohttp<4.0.0,>=3.8.3 (from langchain-community)\n",
      "  Using cached aiohttp-3.12.15-cp312-cp312-macosx_10_13_x86_64.whl.metadata (7.7 kB)\n",
      "Requirement already satisfied: tenacity!=8.4.0,<10.0.0,>=8.1.0 in ./.venv/lib/python3.12/site-packages (from langchain-community) (9.1.2)\n",
      "Collecting dataclasses-json<0.7.0,>=0.6.7 (from langchain-community)\n",
      "  Using cached dataclasses_json-0.6.7-py3-none-any.whl.metadata (25 kB)\n",
      "Collecting pydantic-settings<3.0.0,>=2.10.1 (from langchain-community)\n",
      "  Downloading pydantic_settings-2.11.0-py3-none-any.whl.metadata (3.4 kB)\n",
      "Collecting httpx-sse<1.0.0,>=0.4.0 (from langchain-community)\n",
      "  Using cached httpx_sse-0.4.1-py3-none-any.whl.metadata (9.4 kB)\n",
      "Collecting aiohappyeyeballs>=2.5.0 (from aiohttp<4.0.0,>=3.8.3->langchain-community)\n",
      "  Using cached aiohappyeyeballs-2.6.1-py3-none-any.whl.metadata (5.9 kB)\n",
      "Collecting aiosignal>=1.4.0 (from aiohttp<4.0.0,>=3.8.3->langchain-community)\n",
      "  Using cached aiosignal-1.4.0-py3-none-any.whl.metadata (3.7 kB)\n",
      "Collecting attrs>=17.3.0 (from aiohttp<4.0.0,>=3.8.3->langchain-community)\n",
      "  Using cached attrs-25.3.0-py3-none-any.whl.metadata (10 kB)\n",
      "Collecting frozenlist>=1.1.1 (from aiohttp<4.0.0,>=3.8.3->langchain-community)\n",
      "  Using cached frozenlist-1.7.0-cp312-cp312-macosx_10_13_x86_64.whl.metadata (18 kB)\n",
      "Collecting multidict<7.0,>=4.5 (from aiohttp<4.0.0,>=3.8.3->langchain-community)\n",
      "  Using cached multidict-6.6.4-cp312-cp312-macosx_10_13_x86_64.whl.metadata (5.3 kB)\n",
      "Collecting propcache>=0.2.0 (from aiohttp<4.0.0,>=3.8.3->langchain-community)\n",
      "  Using cached propcache-0.3.2-cp312-cp312-macosx_10_13_x86_64.whl.metadata (12 kB)\n",
      "Collecting yarl<2.0,>=1.17.0 (from aiohttp<4.0.0,>=3.8.3->langchain-community)\n",
      "  Using cached yarl-1.20.1-cp312-cp312-macosx_10_13_x86_64.whl.metadata (73 kB)\n",
      "Collecting marshmallow<4.0.0,>=3.18.0 (from dataclasses-json<0.7.0,>=0.6.7->langchain-community)\n",
      "  Using cached marshmallow-3.26.1-py3-none-any.whl.metadata (7.3 kB)\n",
      "Collecting typing-inspect<1,>=0.4.0 (from dataclasses-json<0.7.0,>=0.6.7->langchain-community)\n",
      "  Using cached typing_inspect-0.9.0-py3-none-any.whl.metadata (1.5 kB)\n",
      "Requirement already satisfied: jsonpatch<2.0,>=1.33 in ./.venv/lib/python3.12/site-packages (from langchain-core<1.0.0,>=0.3.72->langchain) (1.33)\n",
      "Requirement already satisfied: typing-extensions>=4.7 in ./.venv/lib/python3.12/site-packages (from langchain-core<1.0.0,>=0.3.72->langchain) (4.15.0)\n",
      "Requirement already satisfied: packaging>=23.2 in ./.venv/lib/python3.12/site-packages (from langchain-core<1.0.0,>=0.3.72->langchain) (25.0)\n",
      "Requirement already satisfied: httpx<1,>=0.23.0 in ./.venv/lib/python3.12/site-packages (from langsmith>=0.1.17->langchain) (0.28.1)\n",
      "Requirement already satisfied: orjson>=3.9.14 in ./.venv/lib/python3.12/site-packages (from langsmith>=0.1.17->langchain) (3.11.3)\n",
      "Requirement already satisfied: requests-toolbelt>=1.0.0 in ./.venv/lib/python3.12/site-packages (from langsmith>=0.1.17->langchain) (1.0.0)\n",
      "Requirement already satisfied: zstandard>=0.23.0 in ./.venv/lib/python3.12/site-packages (from langsmith>=0.1.17->langchain) (0.25.0)\n",
      "Requirement already satisfied: annotated-types>=0.6.0 in ./.venv/lib/python3.12/site-packages (from pydantic<3.0.0,>=2.7.4->langchain) (0.7.0)\n",
      "Requirement already satisfied: pydantic-core==2.33.2 in ./.venv/lib/python3.12/site-packages (from pydantic<3.0.0,>=2.7.4->langchain) (2.33.2)\n",
      "Requirement already satisfied: typing-inspection>=0.4.0 in ./.venv/lib/python3.12/site-packages (from pydantic<3.0.0,>=2.7.4->langchain) (0.4.1)\n",
      "Requirement already satisfied: python-dotenv>=0.21.0 in ./.venv/lib/python3.12/site-packages (from pydantic-settings<3.0.0,>=2.10.1->langchain-community) (1.1.1)\n",
      "Requirement already satisfied: charset_normalizer<4,>=2 in ./.venv/lib/python3.12/site-packages (from requests<3,>=2->langchain) (3.4.3)\n",
      "Requirement already satisfied: idna<4,>=2.5 in ./.venv/lib/python3.12/site-packages (from requests<3,>=2->langchain) (3.10)\n",
      "Requirement already satisfied: urllib3<3,>=1.21.1 in ./.venv/lib/python3.12/site-packages (from requests<3,>=2->langchain) (2.5.0)\n",
      "Requirement already satisfied: certifi>=2017.4.17 in ./.venv/lib/python3.12/site-packages (from requests<3,>=2->langchain) (2025.8.3)\n",
      "Requirement already satisfied: greenlet>=1 in ./.venv/lib/python3.12/site-packages (from SQLAlchemy<3,>=1.4->langchain) (3.2.4)\n",
      "Requirement already satisfied: anyio in ./.venv/lib/python3.12/site-packages (from httpx<1,>=0.23.0->langsmith>=0.1.17->langchain) (4.10.0)\n",
      "Requirement already satisfied: httpcore==1.* in ./.venv/lib/python3.12/site-packages (from httpx<1,>=0.23.0->langsmith>=0.1.17->langchain) (1.0.9)\n",
      "Requirement already satisfied: h11>=0.16 in ./.venv/lib/python3.12/site-packages (from httpcore==1.*->httpx<1,>=0.23.0->langsmith>=0.1.17->langchain) (0.16.0)\n",
      "Requirement already satisfied: jsonpointer>=1.9 in ./.venv/lib/python3.12/site-packages (from jsonpatch<2.0,>=1.33->langchain-core<1.0.0,>=0.3.72->langchain) (3.0.0)\n",
      "Collecting mypy-extensions>=0.3.0 (from typing-inspect<1,>=0.4.0->dataclasses-json<0.7.0,>=0.6.7->langchain-community)\n",
      "  Using cached mypy_extensions-1.1.0-py3-none-any.whl.metadata (1.1 kB)\n",
      "Requirement already satisfied: sniffio>=1.1 in ./.venv/lib/python3.12/site-packages (from anyio->httpx<1,>=0.23.0->langsmith>=0.1.17->langchain) (1.3.1)\n",
      "Downloading langchain_community-0.3.30-py3-none-any.whl (2.5 MB)\n",
      "\u001b[2K   \u001b[90m━━━━━━━━━━━━━━━━━━━━━━━━━━━━━━━━━━━━━━━━\u001b[0m \u001b[32m2.5/2.5 MB\u001b[0m \u001b[31m5.9 MB/s\u001b[0m eta \u001b[36m0:00:00\u001b[0ma \u001b[36m0:00:01\u001b[0m\n",
      "\u001b[?25hUsing cached aiohttp-3.12.15-cp312-cp312-macosx_10_13_x86_64.whl (476 kB)\n",
      "Using cached dataclasses_json-0.6.7-py3-none-any.whl (28 kB)\n",
      "Using cached httpx_sse-0.4.1-py3-none-any.whl (8.1 kB)\n",
      "Downloading pydantic_settings-2.11.0-py3-none-any.whl (48 kB)\n",
      "Using cached aiohappyeyeballs-2.6.1-py3-none-any.whl (15 kB)\n",
      "Using cached aiosignal-1.4.0-py3-none-any.whl (7.5 kB)\n",
      "Using cached attrs-25.3.0-py3-none-any.whl (63 kB)\n",
      "Using cached frozenlist-1.7.0-cp312-cp312-macosx_10_13_x86_64.whl (47 kB)\n",
      "Using cached marshmallow-3.26.1-py3-none-any.whl (50 kB)\n",
      "Using cached multidict-6.6.4-cp312-cp312-macosx_10_13_x86_64.whl (45 kB)\n",
      "Using cached propcache-0.3.2-cp312-cp312-macosx_10_13_x86_64.whl (43 kB)\n",
      "Using cached typing_inspect-0.9.0-py3-none-any.whl (8.8 kB)\n",
      "Using cached yarl-1.20.1-cp312-cp312-macosx_10_13_x86_64.whl (91 kB)\n",
      "Using cached mypy_extensions-1.1.0-py3-none-any.whl (5.0 kB)\n",
      "Installing collected packages: propcache, mypy-extensions, multidict, marshmallow, httpx-sse, frozenlist, attrs, aiohappyeyeballs, yarl, typing-inspect, aiosignal, pydantic-settings, dataclasses-json, aiohttp, langchain-community\n",
      "Successfully installed aiohappyeyeballs-2.6.1 aiohttp-3.12.15 aiosignal-1.4.0 attrs-25.3.0 dataclasses-json-0.6.7 frozenlist-1.7.0 httpx-sse-0.4.1 langchain-community-0.3.30 marshmallow-3.26.1 multidict-6.6.4 mypy-extensions-1.1.0 propcache-0.3.2 pydantic-settings-2.11.0 typing-inspect-0.9.0 yarl-1.20.1\n",
      "\n",
      "\u001b[1m[\u001b[0m\u001b[34;49mnotice\u001b[0m\u001b[1;39;49m]\u001b[0m\u001b[39;49m A new release of pip is available: \u001b[0m\u001b[31;49m24.3.1\u001b[0m\u001b[39;49m -> \u001b[0m\u001b[32;49m25.2\u001b[0m\n",
      "\u001b[1m[\u001b[0m\u001b[34;49mnotice\u001b[0m\u001b[1;39;49m]\u001b[0m\u001b[39;49m To update, run: \u001b[0m\u001b[32;49mpip install --upgrade pip\u001b[0m\n",
      "Note: you may need to restart the kernel to use updated packages.\n"
     ]
    }
   ],
   "source": [
    "%pip install langchain numpy langchain-community"
   ]
  },
  {
   "cell_type": "code",
   "execution_count": 2,
   "id": "3e7e007d0f4b071f",
   "metadata": {
    "ExecuteTime": {
     "end_time": "2025-09-15T06:37:36.150445Z",
     "start_time": "2025-09-15T06:37:34.865625Z"
    }
   },
   "outputs": [
    {
     "name": "stdout",
     "output_type": "stream",
     "text": [
      "{'score': 0.055613485077633085}\n"
     ]
    }
   ],
   "source": [
    "from langchain.evaluation import load_evaluator\n",
    "from dotenv import load_dotenv\n",
    "\n",
    "load_dotenv()\n",
    "\n",
    "evaluator = load_evaluator(\"embedding_distance\", embeddings_model=\"openai\")\n",
    "\n",
    "result = evaluator.evaluate_strings(\n",
    "    prediction=\"Stolica Polski to Warszawa\",\n",
    "    reference=\"Warszawa jest stolicą Polski\"\n",
    ")\n",
    "\n",
    "print(result)\n"
   ]
  },
  {
   "cell_type": "code",
   "execution_count": 3,
   "id": "b37553fb",
   "metadata": {},
   "outputs": [
    {
     "name": "stdout",
     "output_type": "stream",
     "text": [
      "\n",
      "=== Dobry prompt — krok 1 ===\n",
      "Oczywiście, oto trzy opisy MacBooka Pro 15\" z 2019 roku:\n",
      "\n",
      "**Opis 1:**\n",
      "MacBook Pro 15\" z 2019 roku to potężne narzędzie dla profesjonalistów, którzy potrzebują niezawodności i wydajności. Wyposażony w sześciordzeniowy procesor Intel Core i7 dziewiątej generacji, zapewnia niesamowitą moc obliczeniową, idealną do zaawansowanej edycji wideo, projektowania graficznego i programowania. Jego wyświetlacz Retina z technologią True Tone oferuje doskonałe odwzorowanie kolorów, co czyni go idealnym wyborem dla kreatywnych profesjonalistów. Dodatkowo, system audio z wysokiej jakości głośnikami i długotrwała bateria sprawiają, że MacBook Pro 15\" to doskonały wybór do pracy i rozrywki.\n",
      "\n",
      "**Opis 2:**\n",
      "MacBook Pro 15\" (2019) to urządzenie stworzone z myślą o najbardziej wymagających użytkownikach. Zasilany przez procesor Intel Core i9 dziewiątej generacji i wyposażony w kartę graficzną Radeon Pro, ten laptop jest gotowy sprostać najbardziej wymagającym zadaniom. Posiada także szybki dysk SSD, który zapewnia błyskawiczne uruchamianie systemu i aplikacji. Zintegrowany Touch Bar i Touch ID oferują nowoczesne sposoby interakcji, a smukła i lekka konstrukcja sprawia, że można go zabrać wszędzie. To idealne narzędzie dla profesjonalistów, którzy nie uznają kompromisów.\n",
      "\n",
      "**Opis 3:**\n",
      "MacBook Pro 15\" z 2019 roku łączy w sobie elegancję i wydajność, oferując użytkownikom najwyższej jakości doświadczenia. Dzięki 16 GB pamięci RAM i możliwości rozbudowy do 32 GB, ten laptop z łatwością radzi sobie z wielozadaniowością i intensywnymi procesami. Wyświetlacz Retina o wysokiej rozdzielczości zapewnia wyjątkową jakość obrazu, niezbędną dla fotografów i filmowców. Nowoczesne porty Thunderbolt 3 umożliwiają szybkie przesyłanie danych i podłączanie zewnętrznych urządzeń, takich jak monitory i dyski. MacBook Pro 15\" z 2019 roku to niezawodny towarzysz dla każdego, kto ceni sobie wydajność i styl.\n",
      "\n",
      "=== Dobry prompt — krok 2 ===\n",
      "Każdy z trzech opisów ma swoje zalety, ale jeśli miałbym wybrać jeden, który najlepiej przedstawia MacBooka Pro 15\" z 2019 roku, to byłby to **Opis 2**. Oto dlaczego:\n",
      "\n",
      "1. **Wydajność:** Opis 2 podkreśla obecność procesora Intel Core i9 dziewiątej generacji oraz karty graficznej Radeon Pro, co jest wskazaniem na najwyższą wydajność tego modelu. To szczególnie ważne dla użytkowników, którzy potrzebują dużej mocy obliczeniowej do zaawansowanych zastosowań.\n",
      "\n",
      "2. **Szybkość i nowoczesność:** Wspomnienie o szybkim dysku SSD oraz funkcjach Touch Bar i Touch ID podkreśla nowoczesne i szybkie działanie urządzenia, co jest istotne dla profesjonalistów.\n",
      "\n",
      "3. **Mobilność:** Opis 2 zwraca uwagę na smukłą i lekką konstrukcję, co jest istotne dla użytkowników, którzy często podróżują i potrzebują przenośnego, ale wydajnego sprzętu.\n",
      "\n",
      "Chociaż wszystkie opisy dobrze przedstawiają urządzenie, Opis 2 najlepiej uwypukla kluczowe cechy, które mogą być decydujące dla profesjonalistów szukających wszechstronnego i wydajnego narzędzia pracy.\n"
     ]
    }
   ],
   "source": [
    "# Dobry prompt — krok po kroku\n",
    "good_step1 = \"Przygotuj 3 opisy laptopa MacBook Pro 15' 2019.\"\n",
    "step1 = llm.invoke(good_step1).content\n",
    "print(\"\\n=== Dobry prompt — krok 1 ===\")\n",
    "print(step1)\n",
    "\n",
    "good_step2 = f\"Oceń, który z opisów jest najlepszy dla MacBook Pro 15' 2019: {step1}\"\n",
    "step2 = llm.invoke(good_step2).content\n",
    "print(\"\\n=== Dobry prompt — krok 2 ===\")\n",
    "print(step2)"
   ]
  }
 ],
 "metadata": {
  "kernelspec": {
   "display_name": ".venv",
   "language": "python",
   "name": "python3"
  },
  "language_info": {
   "codemirror_mode": {
    "name": "ipython",
    "version": 3
   },
   "file_extension": ".py",
   "mimetype": "text/x-python",
   "name": "python",
   "nbconvert_exporter": "python",
   "pygments_lexer": "ipython3",
   "version": "3.12.8"
  }
 },
 "nbformat": 4,
 "nbformat_minor": 5
}
