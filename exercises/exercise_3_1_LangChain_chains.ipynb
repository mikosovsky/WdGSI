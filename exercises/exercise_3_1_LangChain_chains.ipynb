{
 "cells": [
  {
   "cell_type": "markdown",
   "id": "7c758963",
   "metadata": {},
   "source": [
    "# Zadania – 3_1 LangChain Chains\n",
    "\n",
    "Budowa różnych typów chains: prosty, sekwencyjny, równoległy i mini‑RAG.\n",
    "\n",
    "> **Instrukcja:** Zadania są krótkie i polegają na uzupełnieniu brakujących fragmentów kodu (`____`). Niektóre komórki zawierają komentarze `# TODO` i `# HINT`. Uruchamiaj komórki po kolei."
   ]
  },
  {
   "cell_type": "markdown",
   "id": "88a5858a",
   "metadata": {},
   "source": [
    "### Zadanie 1: Prosty chain (Prompt ➜ LLM)\n",
    "Uzupełnij brakujące elementy, aby zbudować najprostszy łańcuch, który odpowiada po polsku."
   ]
  },
  {
   "cell_type": "code",
   "execution_count": 1,
   "id": "8434655d1239278",
   "metadata": {
    "ExecuteTime": {
     "end_time": "2025-10-11T03:56:50.865386Z",
     "start_time": "2025-10-11T03:56:50.857373Z"
    }
   },
   "outputs": [
    {
     "data": {
      "text/plain": [
       "True"
      ]
     },
     "execution_count": 1,
     "metadata": {},
     "output_type": "execute_result"
    }
   ],
   "source": [
    "from dotenv import load_dotenv\n",
    "\n",
    "load_dotenv()"
   ]
  },
  {
   "cell_type": "code",
   "execution_count": 2,
   "id": "8fdc7a3e",
   "metadata": {
    "ExecuteTime": {
     "end_time": "2025-10-11T03:56:56.086825Z",
     "start_time": "2025-10-11T03:56:52.992733Z"
    }
   },
   "outputs": [
    {
     "name": "stdout",
     "output_type": "stream",
     "text": [
      "<class 'str'> \n",
      " LangChain to framework do budowy aplikacji opartych na modelach językowych, który umożliwia integrację z różnymi źródłami danych i narzędziami, wspierając tworzenie bardziej zaawansowanych i interaktywnych rozwiązań.\n"
     ]
    }
   ],
   "source": [
    "# TODO: Uzupełnij importy i miejsca oznaczone ____\n",
    "from langchain_openai import ChatOpenAI\n",
    "from langchain_core.prompts import ChatPromptTemplate\n",
    "from langchain_core.output_parsers import StrOutputParser\n",
    "\n",
    "llm = ChatOpenAI(model=\"gpt-4o-mini\", temperature=0)\n",
    "prompt = ChatPromptTemplate.from_messages([\n",
    "    (\"system\", \"Jesteś ekspertem, który odpowiada w języku polskim.\"),\n",
    "    (\"user\", \"{pytanie}\")\n",
    "])\n",
    "\n",
    "chain = prompt | llm  | StrOutputParser()\n",
    "\n",
    "# Oczekiwany efekt: odpowiedź po polsku\n",
    "wynik = chain.invoke({\"pytanie\": \"W jednym zdaniu: czym jest LangChain?\"})\n",
    "print(type(wynik), \"\\n\", wynik)\n"
   ]
  },
  {
   "cell_type": "markdown",
   "id": "5667f624",
   "metadata": {},
   "source": [
    "### Zadanie 2: Sekwencyjny chain\n",
    "Stwórz łańcuch dwuetapowy: (1) parafraza, (2) skrócenie do 1 zdania."
   ]
  },
  {
   "cell_type": "code",
   "execution_count": 4,
   "id": "4a94cfe0",
   "metadata": {
    "ExecuteTime": {
     "end_time": "2025-10-11T03:58:36.677951Z",
     "start_time": "2025-10-11T03:58:33.614110Z"
    }
   },
   "outputs": [
    {
     "name": "stdout",
     "output_type": "stream",
     "text": [
      "content='LangChain pozwala na tworzenie skomplikowanych procesów z użyciem modeli językowych.' additional_kwargs={'refusal': None} response_metadata={'token_usage': {'completion_tokens': 21, 'prompt_tokens': 54, 'total_tokens': 75, 'completion_tokens_details': {'accepted_prediction_tokens': 0, 'audio_tokens': 0, 'reasoning_tokens': 0, 'rejected_prediction_tokens': 0}, 'prompt_tokens_details': {'audio_tokens': 0, 'cached_tokens': 0}}, 'model_name': 'gpt-4o-mini-2024-07-18', 'system_fingerprint': 'fp_560af6e559', 'id': 'chatcmpl-CPL2ZJ5dJVU8KiFqOCGoXxaVSn5AP', 'service_tier': 'default', 'finish_reason': 'stop', 'logprobs': None} id='run--d610eb99-d75a-4e8f-97c6-c05aae466131-0' usage_metadata={'input_tokens': 54, 'output_tokens': 21, 'total_tokens': 75, 'input_token_details': {'audio': 0, 'cache_read': 0}, 'output_token_details': {'audio': 0, 'reasoning': 0}}\n"
     ]
    }
   ],
   "source": [
    "# TODO: Zbuduj chain sekwencyjny prompt1 -> llm -> prompt2 -> llm\n",
    "from langchain_core.prompts import ChatPromptTemplate\n",
    "from langchain_openai import ChatOpenAI\n",
    "\n",
    "llm = ChatOpenAI(model=\"gpt-4o-mini\", temperature=0)\n",
    "\n",
    "prompt1 = ChatPromptTemplate.from_messages([\n",
    "    (\"system\", \"Przekształć wypowiedź użytkownika w bardziej formalny styl. Po polsku.\"),\n",
    "    (\"user\", \"{tekst}\")\n",
    "])\n",
    "\n",
    "prompt2 = ChatPromptTemplate.from_messages([\n",
    "    (\"system\", \"Streść poprzedni tekst do jednego zdania. Po polsku.\"),\n",
    "    (\"user\", \"{wejscie}\")\n",
    "])\n",
    "\n",
    "# HINT: Użyj operatora | i mapowania kluczy za pomocą .map() lub prostego lambda\n",
    "stage1 = prompt1 | llm\n",
    "# poniżej wstaw przekazanie wyniku stage1 do prompt2 (klucz 'wejscie'):\n",
    "stage2_input_map = lambda x: {\"wejscie\": x.content if hasattr(x, \"content\") else str(x)}\n",
    "\n",
    "chain = stage1 | stage2_input_map | (____ |____)\n",
    "\n",
    "print(chain.invoke({\"tekst\": \"LangChain pozwala budować złożone przepływy z LLM.\"}))\n"
   ]
  }
 ],
 "metadata": {
  "kernelspec": {
   "display_name": ".venv",
   "language": "python",
   "name": "python3"
  },
  "language_info": {
   "codemirror_mode": {
    "name": "ipython",
    "version": 3
   },
   "file_extension": ".py",
   "mimetype": "text/x-python",
   "name": "python",
   "nbconvert_exporter": "python",
   "pygments_lexer": "ipython3",
   "version": "3.12.8"
  }
 },
 "nbformat": 4,
 "nbformat_minor": 5
}
