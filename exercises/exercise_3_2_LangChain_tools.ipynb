{
 "cells": [
  {
   "cell_type": "markdown",
   "id": "f203fbc5",
   "metadata": {},
   "source": [
    "# Zadania – 3_2 LangChain Tools\n",
    "\n",
    "Definiowanie własnych narzędzi (tools) i integracja z agentami.\n",
    "\n",
    "> **Instrukcja:** Zadania są krótkie i polegają na uzupełnieniu brakujących fragmentów kodu (`____`). Niektóre komórki zawierają komentarze `# TODO` i `# HINT`. Uruchamiaj komórki po kolei."
   ]
  },
  {
   "cell_type": "markdown",
   "id": "c636308e",
   "metadata": {},
   "source": [
    "### Zadanie 1: Proste narzędzie – kalkulator\n",
    "Zaimplementuj funkcję dodawania i zarejestruj ją jako narzędzie LangChain."
   ]
  },
  {
   "cell_type": "code",
   "execution_count": 1,
   "id": "1c79efb8c07ee026",
   "metadata": {
    "ExecuteTime": {
     "end_time": "2025-10-11T04:36:11.636483Z",
     "start_time": "2025-10-11T04:36:11.627448Z"
    }
   },
   "outputs": [
    {
     "data": {
      "text/plain": [
       "True"
      ]
     },
     "execution_count": 1,
     "metadata": {},
     "output_type": "execute_result"
    }
   ],
   "source": [
    "from dotenv import load_dotenv\n",
    "\n",
    "load_dotenv()"
   ]
  },
  {
   "cell_type": "code",
   "execution_count": 2,
   "id": "5452a5a8",
   "metadata": {
    "ExecuteTime": {
     "end_time": "2025-10-11T04:34:54.206832Z",
     "start_time": "2025-10-11T04:34:53.737365Z"
    }
   },
   "outputs": [
    {
     "name": "stdout",
     "output_type": "stream",
     "text": [
      "5.0\n"
     ]
    }
   ],
   "source": [
    "\n",
    "# TODO: Utwórz tool `add_two_numbers(a: float, b: float) -> float`\n",
    "from langchain_core.tools import tool\n",
    "\n",
    "@tool\n",
    "def add_two_numbers(a: float, b: float) -> float:\n",
    "    \"\"\"Zwraca sumę dwóch liczb.\"\"\"\n",
    "    # uzupełnij tutaj\n",
    "    return a + b\n",
    "\n",
    "print(add_two_numbers.invoke({\"a\": 2, \"b\": 3}))\n"
   ]
  },
  {
   "cell_type": "markdown",
   "id": "1179265f",
   "metadata": {},
   "source": [
    "### Zadanie 2: Narzędzie „mini‑wiki” (lokalna baza wiedzy)\n",
    "Zbuduj narzędzie, które zwraca krótki opis po kluczu ze słownika."
   ]
  },
  {
   "cell_type": "code",
   "execution_count": 6,
   "id": "b7d9d249",
   "metadata": {
    "ExecuteTime": {
     "end_time": "2025-10-11T04:34:56.420349Z",
     "start_time": "2025-10-11T04:34:56.413652Z"
    }
   },
   "outputs": [
    {
     "name": "stdout",
     "output_type": "stream",
     "text": [
      "RAG (Retrieval-Augmented Generation) to technika łączenia modeli językowych z systemami wyszukiwania informacji w celu poprawy jakości generowanych odpowiedzi.\n"
     ]
    }
   ],
   "source": [
    "\n",
    "# TODO: Stwórz słownik i tool `mini_wiki(query: str)` zwracający opis lub komunikat o braku hasła\n",
    "from langchain_core.tools import tool\n",
    "\n",
    "DB = {\n",
    "    \"rag\": \"RAG (Retrieval-Augmented Generation) to technika łączenia modeli językowych z systemami wyszukiwania informacji w celu poprawy jakości generowanych odpowiedzi.\",\n",
    "    \"langchain\": \"LangChain to framework do budowania aplikacji wykorzystujących modele językowe, umożliwiający integrację z różnymi źródłami danych i narzędziami.\",\n",
    "    \"llm\": \"LLM (Large Language Model) to duży model językowy, taki jak GPT-3 czy GPT-4, zdolny do generowania tekstu na podstawie podanego kontekstu.\",\n",
    "    \"chatgpt\": \"ChatGPT to model językowy opracowany przez OpenAI, zaprojektowany do prowadzenia rozmów i generowania tekstu w sposób przypominający ludzki.\",\n",
    "    \"python\": \"Python to popularny język programowania znany z czytelnej składni i wszechstronności, używany w wielu dziedzinach, od analizy danych po rozwój aplikacji webowych.\",\n",
    "}\n",
    "\n",
    "@tool\n",
    "def mini_wiki(query: str) -> str:\n",
    "    \"\"\"Wyszukaj definicję w mini-wiki używając parametru query. \n",
    "    \n",
    "    Args:\n",
    "        query: Słowo kluczowe do wyszukania (np. 'rag', 'langchain', 'python')\n",
    "    \n",
    "    Returns:\n",
    "        Definicja słowa lub komunikat o braku hasła\n",
    "    \"\"\"\n",
    "    return DB.get(query.lower().strip(), \"Brak hasła w mini‑wiki.\")\n",
    "\n",
    "print(mini_wiki.invoke({\"query\": \"RAG\"}))\n"
   ]
  },
  {
   "cell_type": "markdown",
   "id": "bb9dc225",
   "metadata": {},
   "source": [
    "### Zadanie 3: Agent z narzędziami\n",
    "Utwórz prostego agenta, który może wywołać `add_two_numbers` i `mini_wiki` w zależności od pytania."
   ]
  },
  {
   "cell_type": "code",
   "execution_count": 7,
   "id": "f3d0e70d",
   "metadata": {
    "ExecuteTime": {
     "end_time": "2025-10-11T04:47:08.895260Z",
     "start_time": "2025-10-11T04:47:00.429602Z"
    }
   },
   "outputs": [
    {
     "name": "stdout",
     "output_type": "stream",
     "text": [
      "\n",
      "\n",
      "\u001b[1m> Entering new AgentExecutor chain...\u001b[0m\n",
      "\u001b[32;1m\u001b[1;3mThought: I need to add the two numbers 12.5 and 7.5 together. \n",
      "Action:\n",
      "```\n",
      "{\n",
      "  \"action\": \"add_two_numbers\",\n",
      "  \"action_input\": {\n",
      "    \"a\": 12.5,\n",
      "    \"b\": 7.5\n",
      "  }\n",
      "}\n",
      "```\n",
      "\u001b[0m\n",
      "Observation: \u001b[36;1m\u001b[1;3m20.0\u001b[0m\n",
      "Thought:\u001b[32;1m\u001b[1;3mI know what to respond.\n",
      "Action:\n",
      "```\n",
      "{\n",
      "  \"action\": \"Final Answer\",\n",
      "  \"action_input\": \"Suma 12.5 i 7.5 wynosi 20.0.\"\n",
      "}\n",
      "```\n",
      "\u001b[0m\n",
      "\n",
      "\u001b[1m> Finished chain.\u001b[0m\n",
      "Suma 12.5 i 7.5 wynosi 20.0.\n",
      "\n",
      "\n",
      "\u001b[1m> Entering new AgentExecutor chain...\u001b[0m\n",
      "\u001b[32;1m\u001b[1;3mThought: RAG to skrót od \"Retrieval-Augmented Generation\", co odnosi się do techniki w przetwarzaniu języka naturalnego, która łączy generację tekstu z wyszukiwaniem informacji. Chcę potwierdzić tę definicję w mini-wiki. \n",
      "Action:\n",
      "```\n",
      "{\n",
      "  \"action\": \"mini_wiki\",\n",
      "  \"action_input\": {\"query\": \"RAG\"}\n",
      "}\n",
      "```\n",
      "\u001b[0m\n",
      "Observation: \u001b[33;1m\u001b[1;3mRAG (Retrieval-Augmented Generation) to technika łączenia modeli językowych z systemami wyszukiwania informacji w celu poprawy jakości generowanych odpowiedzi.\u001b[0m\n",
      "Thought:\u001b[32;1m\u001b[1;3mRAG to technika łączenia modeli językowych z systemami wyszukiwania informacji w celu poprawy jakości generowanych odpowiedzi. \n",
      "\n",
      "Action:\n",
      "```\n",
      "{\n",
      "  \"action\": \"Final Answer\",\n",
      "  \"action_input\": \"RAG to technika łączenia modeli językowych z systemami wyszukiwania informacji w celu poprawy jakości generowanych odpowiedzi.\"\n",
      "}\n",
      "```\n",
      "\u001b[0m\n",
      "\n",
      "\u001b[1m> Finished chain.\u001b[0m\n",
      "RAG to technika łączenia modeli językowych z systemami wyszukiwania informacji w celu poprawy jakości generowanych odpowiedzi.\n"
     ]
    }
   ],
   "source": [
    "from langchain.agents import AgentType, initialize_agent\n",
    "from langchain_openai import ChatOpenAI\n",
    "# TODO: Zbuduj agenta z zestawem tools i przetestuj 2 zapytania\n",
    "\n",
    "tools = [add_two_numbers, mini_wiki]\n",
    "\n",
    "llm = ChatOpenAI(model=\"gpt-4o-mini\", temperature=0)\n",
    "\n",
    "agent = initialize_agent(\n",
    "    llm=llm,\n",
    "    tools=tools,\n",
    "    agent=AgentType.STRUCTURED_CHAT_ZERO_SHOT_REACT_DESCRIPTION,\n",
    "    verbose=True,\n",
    "    max_iterations=6\n",
    ")\n",
    "\n",
    "print(agent.run(\"Dodaj 12.5 i 7.5\"))\n",
    "print(agent.run(\"Wyjaśnij w jednym zdaniu co to RAG\"))\n"
   ]
  }
 ],
 "metadata": {
  "kernelspec": {
   "display_name": ".venv",
   "language": "python",
   "name": "python3"
  },
  "language_info": {
   "codemirror_mode": {
    "name": "ipython",
    "version": 3
   },
   "file_extension": ".py",
   "mimetype": "text/x-python",
   "name": "python",
   "nbconvert_exporter": "python",
   "pygments_lexer": "ipython3",
   "version": "3.12.8"
  }
 },
 "nbformat": 4,
 "nbformat_minor": 5
}
