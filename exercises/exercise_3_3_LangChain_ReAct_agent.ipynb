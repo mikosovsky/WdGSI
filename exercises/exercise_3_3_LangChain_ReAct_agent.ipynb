{
 "cells": [
  {
   "cell_type": "markdown",
   "id": "5f94f125",
   "metadata": {},
   "source": [
    "# Zestaw zadań — LangChain: Agent ReAct\n",
    "\n",
    "> Uzupełnij fragmenty oznaczone \"____\"\n"
   ]
  },
  {
   "cell_type": "markdown",
   "id": "278c11f2",
   "metadata": {},
   "source": [
    "## Zadanie 1 — Złóż łańcuch: `Prompt` → `LLM` → `StrOutputParser`"
   ]
  },
  {
   "cell_type": "code",
   "execution_count": 1,
   "id": "c180740a6b35cb00",
   "metadata": {
    "ExecuteTime": {
     "end_time": "2025-10-11T04:51:05.805456Z",
     "start_time": "2025-10-11T04:51:05.797680Z"
    }
   },
   "outputs": [
    {
     "data": {
      "text/plain": [
       "True"
      ]
     },
     "execution_count": 1,
     "metadata": {},
     "output_type": "execute_result"
    }
   ],
   "source": [
    "from dotenv import load_dotenv\n",
    "\n",
    "load_dotenv()"
   ]
  },
  {
   "cell_type": "code",
   "execution_count": 2,
   "id": "d42ea86d",
   "metadata": {},
   "outputs": [],
   "source": [
    "from langchain_core.prompts import PromptTemplate\n",
    "from langchain_core.output_parsers import StrOutputParser\n",
    "from langchain_openai import ChatOpenAI\n",
    "\n",
    "# 1) Przygotuj PromptTemplate z jedną zmienną 'query'\n",
    "prompt = PromptTemplate.from_template(\"Odpowiedz zwięźle: {query}\")  # TODO: zmień tekst, jeśli chcesz\n",
    "\n",
    "# 2) Przygotuj LLM (nie uruchamiamy zapytań w tym zadaniu)\n",
    "llm = ChatOpenAI(model=\"gpt-4o-mini\", temperature=0)\n",
    "\n",
    "# 3) Parser tekstowy\n",
    "parser = StrOutputParser()\n",
    "\n",
    "# 4) Złóż łańcuch operatorami |\n",
    "chain = prompt | llm | parser\n",
    "\n",
    "assert chain is not None, \"Łańcuch nie został utworzony.\""
   ]
  },
  {
   "cell_type": "markdown",
   "id": "03f5ea35",
   "metadata": {},
   "source": [
    "## Zadanie 2 — `Tool`: udekoruj funkcję @tool"
   ]
  },
  {
   "cell_type": "code",
   "execution_count": 3,
   "id": "9e2eb597",
   "metadata": {
    "ExecuteTime": {
     "end_time": "2025-10-11T04:52:43.257353Z",
     "start_time": "2025-10-11T04:52:43.250950Z"
    }
   },
   "outputs": [
    {
     "name": "stdout",
     "output_type": "stream",
     "text": [
      "Długość: 9\n"
     ]
    }
   ],
   "source": [
    "# Cel: zdefiniuj prostą funkcję i zarejestruj jako narzędzie LangChain.\n",
    "from typing import Annotated\n",
    "from langchain_core.tools import tool\n",
    "\n",
    "# 1) Utwórz funkcję, która zwraca długość tekstu\n",
    "@tool\n",
    "def text_length(s: Annotated[str, \"Tekst wejściowy\"]) -> int:\n",
    "    \"\"\"Zwraca liczbę znaków w tekście.\"\"\"\n",
    "    return len(s)\n",
    "\n",
    "# 2) Użyj narzędzia bezpośrednio\n",
    "res = text_length.invoke({\"s\": \"LangChain\"})\n",
    "print(\"Długość:\", res)\n",
    "assert isinstance(res, int), \"Narzędzie powinno zwrócić int.\""
   ]
  },
  {
   "cell_type": "markdown",
   "id": "3d45264b",
   "metadata": {},
   "source": [
    "## Zadanie 3 — Agent ReAct: stwórz szkic agenta korzystającego z narzędzi"
   ]
  },
  {
   "cell_type": "code",
   "execution_count": 4,
   "id": "2d17293f",
   "metadata": {
    "ExecuteTime": {
     "end_time": "2025-10-11T04:57:38.467903Z",
     "start_time": "2025-10-11T04:57:33.702352Z"
    }
   },
   "outputs": [
    {
     "name": "stderr",
     "output_type": "stream",
     "text": [
      "/var/folders/g3/sxyl_n7x6d51bbb320nhxx5c0000gn/T/ipykernel_5567/4060041211.py:11: LangChainDeprecationWarning: LangChain agents will continue to be supported, but it is recommended for new use cases to be built with LangGraph. LangGraph offers a more flexible and full-featured framework for building agents, including support for tool-calling, persistence of state, and human-in-the-loop workflows. For details, refer to the `LangGraph documentation <https://langchain-ai.github.io/langgraph/>`_ as well as guides for `Migrating from AgentExecutor <https://python.langchain.com/docs/how_to/migrate_agent/>`_ and LangGraph's `Pre-built ReAct agent <https://langchain-ai.github.io/langgraph/how-tos/create-react-agent/>`_.\n",
      "  agent = initialize_agent(\n",
      "/var/folders/g3/sxyl_n7x6d51bbb320nhxx5c0000gn/T/ipykernel_5567/4060041211.py:19: LangChainDeprecationWarning: The method `Chain.run` was deprecated in langchain 0.1.0 and will be removed in 1.0. Use :meth:`~invoke` instead.\n",
      "  response = agent.run(\"Zmierz długość tego tekstu: konstantynopolitańczykowianeczka\")\n"
     ]
    },
    {
     "name": "stdout",
     "output_type": "stream",
     "text": [
      "\n",
      "\n",
      "\u001b[1m> Entering new AgentExecutor chain...\u001b[0m\n",
      "\u001b[32;1m\u001b[1;3mI need to measure the length of the provided text \"konstantynopolitańczykowianeczka\". \n",
      "Action: text_length\n",
      "Action Input: \"konstantynopolitańczykowianeczka\"\u001b[0m\n",
      "Observation: \u001b[36;1m\u001b[1;3m32\u001b[0m\n",
      "Thought:\u001b[32;1m\u001b[1;3mI now know the final answer\n",
      "Final Answer: 32\u001b[0m\n",
      "\n",
      "\u001b[1m> Finished chain.\u001b[0m\n",
      "32\n"
     ]
    }
   ],
   "source": [
    "# Cel: Przygotuj minimalny szkic agenta ReAct z jednym narzędziem.\n",
    "from langchain.agents import AgentType, initialize_agent\n",
    "from langchain_openai import ChatOpenAI\n",
    "\n",
    "llm = ChatOpenAI(model=\"gpt-4o-mini\", temperature=0)\n",
    "\n",
    "# Lista narzędzi dostępnych dla agenta:\n",
    "tools = [text_length]\n",
    "\n",
    "# Utwórz agenta ReAct\n",
    "agent = initialize_agent(\n",
    "    llm=llm,\n",
    "    tools=tools,\n",
    "    agent=AgentType.ZERO_SHOT_REACT_DESCRIPTION,\n",
    "    verbose=True,\n",
    "    max_iterations=6\n",
    ")\n",
    "\n",
    "response = agent.run(\"Zmierz długość tego tekstu: konstantynopolitańczykowianeczka\")\n",
    "print(response)"
   ]
  }
 ],
 "metadata": {
  "kernelspec": {
   "display_name": ".venv",
   "language": "python",
   "name": "python3"
  },
  "language_info": {
   "codemirror_mode": {
    "name": "ipython",
    "version": 3
   },
   "file_extension": ".py",
   "mimetype": "text/x-python",
   "name": "python",
   "nbconvert_exporter": "python",
   "pygments_lexer": "ipython3",
   "version": "3.12.8"
  }
 },
 "nbformat": 4,
 "nbformat_minor": 5
}
