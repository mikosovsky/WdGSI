{
 "cells": [
  {
   "cell_type": "code",
   "execution_count": 10,
   "id": "d75b0238",
   "metadata": {},
   "outputs": [
    {
     "name": "stdout",
     "output_type": "stream",
     "text": [
      "Collecting openai\n",
      "  Using cached openai-1.108.1-py3-none-any.whl.metadata (29 kB)\n",
      "Collecting anyio<5,>=3.5.0 (from openai)\n",
      "  Using cached anyio-4.10.0-py3-none-any.whl.metadata (4.0 kB)\n",
      "Collecting distro<2,>=1.7.0 (from openai)\n",
      "  Using cached distro-1.9.0-py3-none-any.whl.metadata (6.8 kB)\n",
      "Collecting httpx<1,>=0.23.0 (from openai)\n",
      "  Using cached httpx-0.28.1-py3-none-any.whl.metadata (7.1 kB)\n",
      "Collecting jiter<1,>=0.4.0 (from openai)\n",
      "  Using cached jiter-0.11.0-cp312-cp312-macosx_10_12_x86_64.whl.metadata (5.2 kB)\n",
      "Collecting pydantic<3,>=1.9.0 (from openai)\n",
      "  Using cached pydantic-2.11.9-py3-none-any.whl.metadata (68 kB)\n",
      "Collecting sniffio (from openai)\n",
      "  Using cached sniffio-1.3.1-py3-none-any.whl.metadata (3.9 kB)\n",
      "Collecting tqdm>4 (from openai)\n",
      "  Using cached tqdm-4.67.1-py3-none-any.whl.metadata (57 kB)\n",
      "Collecting typing-extensions<5,>=4.11 (from openai)\n",
      "  Using cached typing_extensions-4.15.0-py3-none-any.whl.metadata (3.3 kB)\n",
      "Collecting idna>=2.8 (from anyio<5,>=3.5.0->openai)\n",
      "  Using cached idna-3.10-py3-none-any.whl.metadata (10 kB)\n",
      "Collecting certifi (from httpx<1,>=0.23.0->openai)\n",
      "  Using cached certifi-2025.8.3-py3-none-any.whl.metadata (2.4 kB)\n",
      "Collecting httpcore==1.* (from httpx<1,>=0.23.0->openai)\n",
      "  Using cached httpcore-1.0.9-py3-none-any.whl.metadata (21 kB)\n",
      "Collecting h11>=0.16 (from httpcore==1.*->httpx<1,>=0.23.0->openai)\n",
      "  Using cached h11-0.16.0-py3-none-any.whl.metadata (8.3 kB)\n",
      "Collecting annotated-types>=0.6.0 (from pydantic<3,>=1.9.0->openai)\n",
      "  Using cached annotated_types-0.7.0-py3-none-any.whl.metadata (15 kB)\n",
      "Collecting pydantic-core==2.33.2 (from pydantic<3,>=1.9.0->openai)\n",
      "  Using cached pydantic_core-2.33.2-cp312-cp312-macosx_10_12_x86_64.whl.metadata (6.8 kB)\n",
      "Collecting typing-inspection>=0.4.0 (from pydantic<3,>=1.9.0->openai)\n",
      "  Using cached typing_inspection-0.4.1-py3-none-any.whl.metadata (2.6 kB)\n",
      "Using cached openai-1.108.1-py3-none-any.whl (948 kB)\n",
      "Using cached anyio-4.10.0-py3-none-any.whl (107 kB)\n",
      "Using cached distro-1.9.0-py3-none-any.whl (20 kB)\n",
      "Using cached httpx-0.28.1-py3-none-any.whl (73 kB)\n",
      "Using cached httpcore-1.0.9-py3-none-any.whl (78 kB)\n",
      "Using cached jiter-0.11.0-cp312-cp312-macosx_10_12_x86_64.whl (305 kB)\n",
      "Using cached pydantic-2.11.9-py3-none-any.whl (444 kB)\n",
      "Using cached pydantic_core-2.33.2-cp312-cp312-macosx_10_12_x86_64.whl (2.0 MB)\n",
      "Using cached sniffio-1.3.1-py3-none-any.whl (10 kB)\n",
      "Using cached tqdm-4.67.1-py3-none-any.whl (78 kB)\n",
      "Using cached typing_extensions-4.15.0-py3-none-any.whl (44 kB)\n",
      "Using cached annotated_types-0.7.0-py3-none-any.whl (13 kB)\n",
      "Using cached idna-3.10-py3-none-any.whl (70 kB)\n",
      "Using cached typing_inspection-0.4.1-py3-none-any.whl (14 kB)\n",
      "Using cached certifi-2025.8.3-py3-none-any.whl (161 kB)\n",
      "Using cached h11-0.16.0-py3-none-any.whl (37 kB)\n",
      "Installing collected packages: typing-extensions, tqdm, sniffio, jiter, idna, h11, distro, certifi, annotated-types, typing-inspection, pydantic-core, httpcore, anyio, pydantic, httpx, openai\n",
      "Successfully installed annotated-types-0.7.0 anyio-4.10.0 certifi-2025.8.3 distro-1.9.0 h11-0.16.0 httpcore-1.0.9 httpx-0.28.1 idna-3.10 jiter-0.11.0 openai-1.108.1 pydantic-2.11.9 pydantic-core-2.33.2 sniffio-1.3.1 tqdm-4.67.1 typing-extensions-4.15.0 typing-inspection-0.4.1\n",
      "\n",
      "\u001b[1m[\u001b[0m\u001b[34;49mnotice\u001b[0m\u001b[1;39;49m]\u001b[0m\u001b[39;49m A new release of pip is available: \u001b[0m\u001b[31;49m24.3.1\u001b[0m\u001b[39;49m -> \u001b[0m\u001b[32;49m25.2\u001b[0m\n",
      "\u001b[1m[\u001b[0m\u001b[34;49mnotice\u001b[0m\u001b[1;39;49m]\u001b[0m\u001b[39;49m To update, run: \u001b[0m\u001b[32;49mpip install --upgrade pip\u001b[0m\n",
      "Note: you may need to restart the kernel to use updated packages.\n"
     ]
    }
   ],
   "source": [
    "%pip install openai"
   ]
  },
  {
   "cell_type": "markdown",
   "id": "9e0bb427",
   "metadata": {},
   "source": [
    "## Exercise 1"
   ]
  },
  {
   "cell_type": "code",
   "execution_count": 11,
   "id": "fe6ba5f8",
   "metadata": {},
   "outputs": [
    {
     "name": "stdout",
     "output_type": "stream",
     "text": [
      "Under a velvet moon, a gentle unicorn tiptoed through a whispering forest, weaving fallen starlight into a warm blanket of dreams for every sleepy heart.\n"
     ]
    }
   ],
   "source": [
    "from openai import OpenAI\n",
    "from dotenv import load_dotenv\n",
    "load_dotenv()\n",
    "\n",
    "client = OpenAI()\n",
    "\n",
    "response = client.responses.create(\n",
    "    model=\"gpt-5\",\n",
    "    input=\"Write a one-sentence bedtime story about a unicorn.\"\n",
    ")\n",
    "\n",
    "print(response.output_text)"
   ]
  },
  {
   "cell_type": "markdown",
   "id": "8013f134",
   "metadata": {},
   "source": [
    "## Exercise 2"
   ]
  },
  {
   "cell_type": "code",
   "execution_count": 12,
   "id": "6e9696c6",
   "metadata": {},
   "outputs": [],
   "source": [
    "gpt_task = \"\"\"Suppose we have 8 square blocks, each colored either green (G), red (R), or white (W), and stacked on top of one another on the 2 x 2 grid formed by the four adjacent plane cells whose lower left coordinates are (0,0), (0,1), (1,0), and (1,1).\n",
    "The initial configuration is this:\n",
    "(0,0): [W, R] (meaning that cell (0,0) has a white block on it, and then a red block on top of that white block.\n",
    "(0,1): [G, G] (green on top of green)\n",
    "(1,0): [W, G] (green on top of white)\n",
    " (1,1): [W, W] (white on top of white)\n",
    "The only move you are allowed to make is to pick up one of the top blocks from a non-empty cell and put it op top of another top block. For example, applying the move (0,1) -> (1,1) to the initial configuration would produce the following configuration:\n",
    "(0,0): [W, R]\n",
    "(0,1): [G]\n",
    " (1,0): [W, G]\n",
    "(1,1): [W, W, G]\n",
    "Either give a sequence of moves resulting in a configuration where no white box is directly on top of another white box, or else prove that no such sequence exists.\n",
    "Think out your answer carefully and step-by-step and explain your reasoning.\"\"\""
   ]
  },
  {
   "cell_type": "code",
   "execution_count": 13,
   "id": "0ffaf3b9",
   "metadata": {},
   "outputs": [
    {
     "name": "stdout",
     "output_type": "stream",
     "text": [
      "To solve the problem, let's start by representing the initial state of the blocks clearly:\n",
      "\n",
      "1. **Initial Configuration**:\n",
      "   - (0,0): [W, R]\n",
      "   - (0,1): [G, G]\n",
      "   - (1,0): [W, G]\n",
      "   - (1,1): [W, W]\n",
      "\n",
      "We want to find a sequence of moves leading to a configuration where no white block (W) is directly on top of another white block.\n",
      "\n",
      "### Analyzing the Initial Configuration\n",
      "\n",
      "**Current Stack Overview**:\n",
      "\n",
      "- The following pairs are present in the stacks:\n",
      "  - (0,0): W is above R → valid\n",
      "  - (0,1): G is above G → valid\n",
      "  - (1,0): G above W → valid\n",
      "  - (1,1): W above W → problematic (this needs adjustment)\n",
      "\n",
      "Since we have W on top of W in (1,1), we must adjust this.\n",
      "\n",
      "### Attempting to Remove W from (1,1)\n",
      "\n",
      "1. One possible move is to pick the top block from (1,1) (one W) and place it on top of another block:\n",
      "   - Move (1,1) → (1,0):\n",
      "     - Resulting configuration:\n",
      "       - (0,0): [W, R]\n",
      "       - (0,1): [G, G]\n",
      "       - (1,0): [W, G, W] (Now we have W on top of G)\n",
      "       - (1,1): [W]\n",
      "\n",
      "   Still, we have W on top of W at (1,0), so we can try another adjustment.\n",
      "\n",
      "### Trying Moves from (0,0) and (1,0)\n",
      "\n",
      "2. Move (0,0) → (1,0):\n",
      "   - Resulting configuration:\n",
      "     - (0,0): [R]\n",
      "     - (0,1): [G, G]\n",
      "     - (1,0): [W, G, W] → still two W there → not valid\n",
      "     - (1,1): [W]\n",
      "  \n",
      "3. We cannot pick from (1,1) now since it will keep W on W.\n",
      "\n",
      "### Important Observation\n",
      "\n",
      "The arrangement of the initial blocks presents a compelling challenge due to the nature of the available blocks and their colors. \n",
      "\n",
      "### Tracking Ws Across Moves\n",
      "\n",
      "At this point, we notice:\n",
      "\n",
      "- **Count of W**: Throughout our analysis, we see that W is present in critical places, namely (1,0) and (1,1). Every move maintaining or interchanging W in this grid will lead to at least one instance of W being on top of another W.\n",
      "\n",
      "### Conclusion\n",
      "\n",
      "The critical observation is that as every potential move involving W either brings another W to the top or onto another W, there exists a stalemate situation where we cannot avoid stacking two W on top of each other. \n",
      "\n",
      "Given the nature of movement and the constraints:\n",
      "\n",
      "**No moves can be made that lead to a state where no W is stacked above another W without returning to the configurations that lead us back to one of the problematic configurations**.\n",
      "\n",
      "Thus, we can conclude **that it is impossible to reach a configuration where no white block (W) is directly on top of another white block (W)**, confirming that the answer is:\n",
      "\n",
      "### Result: \n",
      "**No such sequence of moves exists.**\n"
     ]
    }
   ],
   "source": [
    "response = client.responses.create(\n",
    "    model=\"gpt-4o-mini\",\n",
    "    input=gpt_task\n",
    ")\n",
    "print(response.output_text)"
   ]
  }
 ],
 "metadata": {
  "kernelspec": {
   "display_name": ".venv",
   "language": "python",
   "name": "python3"
  },
  "language_info": {
   "codemirror_mode": {
    "name": "ipython",
    "version": 3
   },
   "file_extension": ".py",
   "mimetype": "text/x-python",
   "name": "python",
   "nbconvert_exporter": "python",
   "pygments_lexer": "ipython3",
   "version": "3.12.8"
  }
 },
 "nbformat": 4,
 "nbformat_minor": 5
}
